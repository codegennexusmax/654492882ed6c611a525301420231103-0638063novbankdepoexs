{
 "cells": [
  {
   "cell_type": "markdown",
   "id": "992580ad",
   "metadata": {},
   "source": [
    "***GENERATED CODE FOR 3novbankdepoexs PIPELINE.***"
   ]
  },
  {
   "cell_type": "markdown",
   "id": "f6f6c728",
   "metadata": {},
   "source": [
    "***DON'T EDIT THIS CODE.***"
   ]
  },
  {
   "cell_type": "markdown",
   "id": "6291b324",
   "metadata": {},
   "source": [
    "***CONNECTOR FUNCTIONS TO READ DATA.***"
   ]
  },
  {
   "cell_type": "code",
   "execution_count": null,
   "id": "10c7da0b",
   "metadata": {},
   "outputs": [],
   "source": [
    "import os\n",
    "import pandas as pd\n",
    "from hdfs3 import HDFileSystem\n",
    "import datetime\n",
    "import logging\n",
    "import warnings\n",
    "warnings.filterwarnings('ignore')\n",
    "logging.basicConfig(format='%(levelname)s:%(message)s', level=logging.INFO)\n",
    "\n",
    "\n",
    "class HDFSConnector:\n",
    "\n",
    "    def fetch(spark, config):\n",
    "        ################### INPUT HADOOP HOST PORT TO CONNECT WITH ###############################\n",
    "        hdfs_server = str(os.environ['HDFS_SERVER'])\n",
    "        hdfs_port = int(os.environ['HDFS_PORT'])\n",
    "        hdfs = HDFileSystem(host=hdfs_server, port=hdfs_port)\n",
    "        with hdfs.open(eval(config)['url']) as f:\n",
    "            dfPd = pd.read_csv(f, error_bad_lines=False)\n",
    "        df = spark.createDataFrame(dfPd)\n",
    "        display(df.limit(2).toPandas())\n",
    "        return df\n",
    "\n",
    "    def put(df, spark, config):\n",
    "        return df.write.format('csv').options(header='true' if eval(config)[\"is_header\"] == \"Use Header Line\" else 'false',\n",
    "                                              delimiter=eval(config)[\"delimiter\"]).save((\"%s %s\") % (datetime.datetime.now().strftime(\"%Y-%m-%d %H.%M.%S\")+\"_\", eval(config)['url']))\n"
   ]
  },
  {
   "cell_type": "markdown",
   "id": "f6f9db96",
   "metadata": {},
   "source": [
    "***OPERATION FUNCTIONS***"
   ]
  },
  {
   "cell_type": "code",
   "execution_count": null,
   "id": "f994f8e4",
   "metadata": {},
   "outputs": [],
   "source": [
    "import pyspark\n",
    "from dask.dataframe import from_pandas\n",
    "import json\n",
    "\n",
    "\n",
    "def calculateFormula(df, functionsData, applyOn):\n",
    "    dfcp = df\n",
    "    for functionData in functionsData:\n",
    "        if functionData['useNext']:\n",
    "            if 'dataPrepColumn_Inprocess' in list(dfcp.columns):\n",
    "                dfcp['dataPrepColumn_Inprocess'] = calculateEquation(\n",
    "                    dfcp, functionData['operator'], functionData['dataPrepColumn_Inprocess'], functionData['operand2'])\n",
    "            else:\n",
    "                dfcp['dataPrepColumn_Inprocess'] = calculateEquation(\n",
    "                    dfcp, functionData['operator'], functionData['operand1'], functionData['operand2'])\n",
    "        else:\n",
    "            if 'dataPrepColumn_Inprocess' in list(dfcp.columns):\n",
    "                if functionData['outputColumn'] == \"newColumn\":\n",
    "                    newColumnName = \"New_\" + \\\n",
    "                        functionData['operand1']+\"_\" + \\\n",
    "                        functionData['operator']+\"_\"+functionData['operand2']\n",
    "                    dfcp[newColumnName] = calculateEquation(dfcp, functionData['operator'],\n",
    "                                                            functionData['dataPrepColumn_Inprocess'], functionData['operand2'])\n",
    "                else:\n",
    "                    dfcp[functionData['outputColumn']] = calculateEquation(dfcp, functionData[\n",
    "                        'operator'], functionData['dataPrepColumn_Inprocess'], functionData['operand2'])\n",
    "                dfcp.drop('dataPrepColumn_Inprocess', axis=1)\n",
    "            else:\n",
    "                if functionData['outputColumn'] == \"newColumn\":\n",
    "                    newColumnName = \"New_\" + \\\n",
    "                        functionData['operand1']+\"_\" + \\\n",
    "                        functionData['operator']+\"_\"+functionData['operand2']\n",
    "                    dfcp[newColumnName] = calculateEquation(dfcp, functionData[\n",
    "                        'operator'], functionData['operand1'], functionData['operand2'])\n",
    "                else:\n",
    "                    dfcp[functionData['outputColumn']] = calculateEquation(dfcp, functionData[\n",
    "                        'operator'], functionData['operand1'], functionData['operand2'])\n",
    "    return dfcp\n",
    "\n",
    "\n",
    "def calculateEquation(df, operator, columnA, columnB):\n",
    "    if (operator == \"add\"):\n",
    "        return df[columnA].add(df[columnB])\n",
    "    elif (operator == \"sub\"):\n",
    "        return df[columnA].sub(df[columnB])\n",
    "    elif (operator == \"mul\"):\n",
    "        return df[columnA].mul(df[columnB])\n",
    "    elif (operator == \"div\"):\n",
    "        return df[columnA].div(df[columnB])\n",
    "    elif (operator == \"mod\"):\n",
    "        return df[columnA].mod(df[columnB])\n",
    "\n",
    "\n",
    "def runDataCleansing(sparkDf, spark, config):\n",
    "    configObj = json.loads(config)\n",
    "    sparkDf.persist(pyspark.StorageLevel.MEMORY_AND_DISK)\n",
    "    df = from_pandas((sparkDf.toPandas()), npartitions=5)\n",
    "    functionList = configObj['functionsApplied']\n",
    "    Data_Cleansing_Methods = {\"replaceBy\": replaceValues,\n",
    "                              \"formula\": calculateFormula,\n",
    "                              \"aggregate\": aggregation,\n",
    "                              \"converttostringtype\": changeToString,\n",
    "                              \"editname\": renameColumns}\n",
    "    for function in functionList:\n",
    "        function['functionName']\n",
    "        df = Data_Cleansing_Methods[function['functionName']](df, function['functionsData'],\n",
    "                                                              function['applyOn'])\n",
    "    sparkDf = spark.createDataFrame(df.compute())\n",
    "\n",
    "    display(sparkDf.limit(2).toPandas())\n",
    "    return sparkDf\n"
   ]
  },
  {
   "cell_type": "markdown",
   "id": "0c6bbf6c",
   "metadata": {},
   "source": [
    "***CONNECTOR FUNCTIONS TO WRITE DATA.***"
   ]
  },
  {
   "cell_type": "code",
   "execution_count": null,
   "id": "257009f7",
   "metadata": {},
   "outputs": [],
   "source": [
    "import datetime\n",
    "import requests\n",
    "import datetime\n",
    "import logging\n",
    "import warnings\n",
    "warnings.filterwarnings('ignore')\n",
    "logging.basicConfig(format='%(levelname)s:%(message)s', level=logging.INFO)\n",
    "\n",
    "\n",
    "class NumtraConnector:\n",
    "\n",
    "    def put(inStages, inStagesData, stageId, spark, config):\n",
    "        path = eval(config)['server_url']\n",
    "        baseType = eval(config)['baseType']\n",
    "        results_url = eval(config)['results_url']\n",
    "        server = eval(config)['server']\n",
    "        originalfile = eval(config)['orignalKey']\n",
    "        eval(config)['pathOnly']\n",
    "        filename = eval(config)['filename']\n",
    "        eval(config)['ser']\n",
    "        eval(config)['user']\n",
    "        eval(config)['password']\n",
    "        eval(config)['authSource']\n",
    "        eval(config)['user_id']\n",
    "        eval(config)['parent_id']\n",
    "        eval(config)['project_id']\n",
    "        time = str(int(datetime.datetime.now().timestamp()))\n",
    "\n",
    "        inStagesData[inStages[0]]\n",
    "\n",
    "        print(path)\n",
    "        print(baseType)\n",
    "        print(results_url)\n",
    "        print(server)\n",
    "        print(originalfile)\n",
    "        print(filename)\n",
    "\n",
    "        args = {\n",
    "            'url': path,\n",
    "            'baseType': baseType,\n",
    "            'originalfile': originalfile,\n",
    "            'filename': time + filename\n",
    "        }\n",
    "\n",
    "        response = requests.post(results_url, args)\n",
    "        return response\n"
   ]
  },
  {
   "cell_type": "markdown",
   "id": "66c95426",
   "metadata": {},
   "source": [
    "***READING DATAFRAME***"
   ]
  },
  {
   "cell_type": "code",
   "execution_count": null,
   "id": "f23fdb51",
   "metadata": {},
   "outputs": [],
   "source": [
    "############## CREATE SPARK SESSION ############################ ENTER YOUR SPARK MASTER IP AND PORT TO CONNECT TO SERVER ################\n",
    "from pyspark.sql import SparkSession\n",
    "spark = SparkSession.builder.master('local[1]').getOrCreate()\n",
    "#%run 3novbankdepoexsHooks.ipynb\n",
    "try:\n",
    "\t#sourcePreExecutionHook()\n",
    "\n",
    "\tnovbankdepoex = HDFSConnector.fetch(spark, \"{'url': '/FileStore/platform/uploadedSourceFiles/tempFile8MayBostonEx_test1698991870.csv', 'filename': '16989918723NovBankDepoEx.csv', 'delimiter': ',', 'file_type': 'Delimeted', 'dbfs_token': '', 'dbfs_domain': '', 'FilePath': '/ExcelTest/3NovBankDepoEx.csv', 'viewFileName': '3NovBankDepoEx.csv', 'is_header': 'Use Header Line', 'baseType': 'hdfs', 'server_url': '/numtraPlatform/NumtraPlatformV3/uploads/platform/', 'results_url': 'http://mluat.numtra.com:44040/api/read/hdfs'}\")\n",
    "\n",
    "except Exception as ex: \n",
    "\tlogging.error(ex)\n",
    "#spark.stop()\n"
   ]
  },
  {
   "cell_type": "markdown",
   "id": "d1002bc2",
   "metadata": {},
   "source": [
    "***PERFORMING OPERATIONS***"
   ]
  },
  {
   "cell_type": "code",
   "execution_count": null,
   "id": "380d1ac1",
   "metadata": {},
   "outputs": [],
   "source": [
    "#%run 3novbankdepoexsHooks.ipynb\n",
    "try:\n",
    "\t#operationPreExecutionHook()\n",
    "\n",
    "datapreparation = runDataCleansing(novbankdepoex,spark,json.dumps( {\"url\": \"/FileStore/platform/uploadedSourceFiles/tempFile8MayBostonEx_test1698991870.csv\", \"source_attributes\": {}, \"DataPrepFile\": \"/FileStore/platform/uploadedSourceFiles/tempFile8MayBostonEx_test1698991870.csv\", \"data_source\": \"platfiles\", \"startListenerOnly\": 1, \"dateColumnNames\": [], \"FilePath\": \"/FileStore/platform/extra/654492a52ed6c611a525302a1698993237/0part.csv\", \"requestRatio\": 0.0, \"totalRows\": 49, \"BasicStats\": {\"missingValues\": 0.0, \"numberOfColumns\": 18, \"numberOfRows\": 49, \"duplicateRowCount\": 0, \"stats\": [{\"column\": \"age\", \"alias\": \"age\", \"generated\": 0, \"type\": \"numeric\", \"max\": 67, \"min\": 26, \"mean\": 45.10204081632653, \"missing\": 0.0, \"stddev\": 10.47, \"outliers\": [], \"validation\": []}, {\"column\": \"job\", \"alias\": \"job\", \"generated\": 0, \"type\": \"String\", \"max\": \"unknown\", \"min\": \"admin.\", \"mean\": \"\", \"missing\": 0.0, \"stddev\": \"\", \"outliers\": [], \"validation\": []}, {\"column\": \"marital\", \"alias\": \"marital\", \"generated\": 0, \"type\": \"String\", \"max\": \"single\", \"min\": \"divorced\", \"mean\": \"\", \"missing\": 0.0, \"stddev\": \"\", \"outliers\": [], \"validation\": []}, {\"column\": \"education\", \"alias\": \"education\", \"generated\": 0, \"type\": \"String\", \"max\": \"tertiary\", \"min\": \"primary\", \"mean\": \"\", \"missing\": 0.0, \"stddev\": \"\", \"outliers\": [], \"validation\": []}, {\"column\": \"default\", \"alias\": \"default\", \"generated\": 0, \"type\": \"String\", \"max\": \"no\", \"min\": \"no\", \"mean\": \"\", \"missing\": 0.0, \"stddev\": \"\", \"outliers\": [], \"validation\": []}, {\"column\": \"balance\", \"alias\": \"balance\", \"generated\": 0, \"type\": \"numeric\", \"max\": 8121, \"min\": -616, \"mean\": 1173.3877551020407, \"missing\": 0.0, \"stddev\": 1855.34, \"outliers\": [8121, 3723, 7687, 5802], \"validation\": []}, {\"column\": \"housing\", \"alias\": \"housing\", \"generated\": 0, \"type\": \"String\", \"max\": \"yes\", \"min\": \"no\", \"mean\": \"\", \"missing\": 0.0, \"stddev\": \"\", \"outliers\": [], \"validation\": []}, {\"column\": \"loan\", \"alias\": \"loan\", \"generated\": 0, \"type\": \"String\", \"max\": \"yes\", \"min\": \"no\", \"mean\": \"\", \"missing\": 0.0, \"stddev\": \"\", \"outliers\": [], \"validation\": []}, {\"column\": \"contact\", \"alias\": \"contact\", \"generated\": 0, \"type\": \"String\", \"max\": \"unknown\", \"min\": \"cellular\", \"mean\": \"\", \"missing\": 0.0, \"stddev\": \"\", \"outliers\": [], \"validation\": []}, {\"column\": \"day\", \"alias\": \"day\", \"generated\": 0, \"type\": \"numeric\", \"max\": 31, \"min\": 2, \"mean\": 15.448979591836734, \"missing\": 0.0, \"stddev\": 9.09, \"outliers\": [], \"validation\": []}, {\"column\": \"month\", \"alias\": \"month\", \"generated\": 0, \"type\": \"String\", \"max\": \"oct\", \"min\": \"aug\", \"mean\": \"\", \"missing\": 0.0, \"stddev\": \"\", \"outliers\": [], \"validation\": []}, {\"column\": \"duration\", \"alias\": \"duration\", \"generated\": 0, \"type\": \"numeric\", \"max\": 1467, \"min\": 8, \"mean\": 294.9591836734694, \"missing\": 0.0, \"stddev\": 322.34, \"outliers\": [1042, 1467, 1389, 579, 673, 977], \"validation\": []}, {\"column\": \"campaign\", \"alias\": \"campaign\", \"generated\": 0, \"type\": \"numeric\", \"max\": 19, \"min\": 1, \"mean\": 3.122448979591837, \"missing\": 0.0, \"stddev\": 3.06, \"outliers\": [19, 11], \"validation\": []}, {\"column\": \"pdays\", \"alias\": \"pdays\", \"generated\": 0, \"type\": \"numeric\", \"max\": 301, \"min\": -1, \"mean\": 11.489795918367347, \"missing\": 0.0, \"stddev\": 49.2, \"outliers\": [301, 84, 119, 104], \"validation\": []}, {\"column\": \"previous\", \"alias\": \"previous\", \"generated\": 0, \"type\": \"numeric\", \"max\": 2, \"min\": 0, \"mean\": 0.12244897959183673, \"missing\": 0.0, \"stddev\": 0.44, \"outliers\": [1, 1, 2, 2], \"validation\": []}, {\"column\": \"poutcome\", \"alias\": \"poutcome\", \"generated\": 0, \"type\": \"String\", \"max\": \"unknown\", \"min\": \"failure\", \"mean\": \"\", \"missing\": 0.0, \"stddev\": \"\", \"outliers\": [], \"validation\": []}, {\"column\": \"deposit\", \"alias\": \"deposit\", \"generated\": 0, \"type\": \"String\", \"max\": \"yes\", \"min\": \"no\", \"mean\": \"\", \"missing\": 0.0, \"stddev\": \"\", \"outliers\": [], \"validation\": []}, {\"column\": \"Duration_day\", \"alias\": \"Duration_day\", \"generated\": 1, \"type\": \"numeric\", \"max\": 8219, \"min\": -296, \"mean\": 1468.3469387755101, \"missing\": 0.0, \"stddev\": 1829.28, \"outliers\": [8219, 7757, 5977], \"validation\": []}]}, \"predictionPowerScore\": [{\"Duration_day\": 1.0, \"age\": 0.0, \"balance\": 0.6302486166, \"campaign\": 0.0, \"contact\": 0.0, \"day\": 0.0, \"default\": 0.0, \"deposit\": 0.0, \"duration\": 0.0, \"education\": 0.0, \"housing\": 0.0, \"job\": 0.0, \"loan\": 0.0, \"marital\": 0.0, \"month\": 0.0, \"pdays\": 0.0, \"poutcome\": 0.0, \"previous\": 0.0}, {\"Duration_day\": 0.0, \"age\": 1.0, \"balance\": 0.0, \"campaign\": 0.0, \"contact\": 0.0, \"day\": 0.0, \"default\": 0.0014245014, \"deposit\": 0.0062034772, \"duration\": 0.0, \"education\": 0.052482881, \"housing\": 0.0120567276, \"job\": 0.0, \"loan\": 0.0, \"marital\": 0.0674468471, \"month\": 0.0, \"pdays\": 0.0037204625, \"poutcome\": 0.0, \"previous\": 0.0}, {\"Duration_day\": 0.5563975306, \"age\": 0.0, \"balance\": 1.0, \"campaign\": 0.0, \"contact\": 0.0, \"day\": 0.0, \"default\": 0.0, \"deposit\": 0.0, \"duration\": 0.0, \"education\": 0.0, \"housing\": 0.0, \"job\": 0.0, \"loan\": 0.0, \"marital\": 0.0, \"month\": 0.0, \"pdays\": 0.0, \"poutcome\": 0.0, \"previous\": 0.0}, {\"Duration_day\": 0.0, \"age\": 0.0, \"balance\": 0.0, \"campaign\": 1.0, \"contact\": 0.0, \"day\": 0.0, \"default\": 0.0, \"deposit\": 0.0, \"duration\": 0.0, \"education\": 0.0, \"housing\": 0.0, \"job\": 0.0, \"loan\": 0.0, \"marital\": 0.0, \"month\": 0.0, \"pdays\": 0.0, \"poutcome\": 0.0, \"previous\": 0.0}, {\"Duration_day\": 0.2059982739, \"age\": 0.0, \"balance\": 0.0, \"campaign\": 0.2235541176, \"contact\": 1.0, \"day\": 0.5216630784, \"default\": 0.0, \"deposit\": 0.3213177924, \"duration\": 0.2546742202, \"education\": 0.0434119139, \"housing\": 0.301869887, \"job\": 0.1278087646, \"loan\": 0.0, \"marital\": 0.0, \"month\": 0.6650609125, \"pdays\": 0.0, \"poutcome\": 0.0, \"previous\": 0.0}, {\"Duration_day\": 0.0, \"age\": 0.03121115, \"balance\": 0.0, \"campaign\": 0.0, \"contact\": 0.0075990676, \"day\": 1.0, \"default\": 0.0, \"deposit\": 0.1737854663, \"duration\": 0.0, \"education\": 0.0, \"housing\": 0.0, \"job\": 0.0, \"loan\": 0.0, \"marital\": 0.0, \"month\": 0.0, \"pdays\": 0.0, \"poutcome\": 0.0, \"previous\": 0.0}, {\"Duration_day\": 0.0, \"age\": 0.0, \"balance\": 0.0, \"campaign\": 0.0, \"contact\": 0.0, \"day\": 0.0, \"default\": 1.0, \"deposit\": 0.0, \"duration\": 0.0, \"education\": 0.0, \"housing\": 0.0, \"job\": 0.0, \"loan\": 0.0, \"marital\": 0.0, \"month\": 0.0, \"pdays\": 0.0, \"poutcome\": 0.0, \"previous\": 0.0}, {\"Duration_day\": 0.0, \"age\": 0.0, \"balance\": 0.0, \"campaign\": 0.0077390716, \"contact\": 0.0077390716, \"day\": 0.8017442229, \"default\": 0.0077390716, \"deposit\": 1.0, \"duration\": 0.7780785059, \"education\": 0.0077390716, \"housing\": 0.0077390716, \"job\": 0.0232835477, \"loan\": 0.0077390716, \"marital\": 0.0077390716, \"month\": 0.0077390716, \"pdays\": 0.0077390716, \"poutcome\": 0.0077390716, \"previous\": 0.0077390716}, {\"Duration_day\": 0.0, \"age\": 0.0, \"balance\": 0.0, \"campaign\": 0.0, \"contact\": 0.0, \"day\": 0.0223295351, \"default\": 0.0, \"deposit\": 0.1920342853, \"duration\": 1.0, \"education\": 0.0, \"housing\": 0.0, \"job\": 0.0, \"loan\": 0.0, \"marital\": 0.0, \"month\": 0.0, \"pdays\": 0.0, \"poutcome\": 0.0, \"previous\": 0.0}, {\"Duration_day\": 0.0040072741, \"age\": 0.0596232556, \"balance\": 0.0, \"campaign\": 0.2542384261, \"contact\": 0.0135941189, \"day\": 0.1002475747, \"default\": 0.0015807817, \"deposit\": 0.0015807817, \"duration\": 0.0, \"education\": 1.0, \"housing\": 0.0015807817, \"job\": 0.4930347216, \"loan\": 0.1331586246, \"marital\": 0.0709131394, \"month\": 0.0, \"pdays\": 0.0015807817, \"poutcome\": 0.0015807817, \"previous\": 0.0}, {\"Duration_day\": 0.0, \"age\": 0.0, \"balance\": 0.1847443469, \"campaign\": 0.0799475198, \"contact\": 0.0, \"day\": 0.0116880348, \"default\": 0.0025147159, \"deposit\": 0.0025147159, \"duration\": 0.0, \"education\": 0.0793006974, \"housing\": 1.0, \"job\": 0.0031425806, \"loan\": 0.0025147159, \"marital\": 0.0, \"month\": 0.1640270958, \"pdays\": 0.0, \"poutcome\": 0.0, \"previous\": 0.0025147159}, {\"Duration_day\": 0.0, \"age\": 0.0, \"balance\": 0.0056610903, \"campaign\": 0.0, \"contact\": 0.0, \"day\": 0.0083888842, \"default\": 0.0, \"deposit\": 0.0, \"duration\": 0.0, \"education\": 0.1393310055, \"housing\": 0.0, \"job\": 1.0, \"loan\": 0.0, \"marital\": 0.0, \"month\": 0.0, \"pdays\": 0.0, \"poutcome\": 0.0, \"previous\": 0.0}, {\"Duration_day\": 0.0, \"age\": 0.0, \"balance\": 0.0, \"campaign\": 0.0, \"contact\": 0.0, \"day\": 0.0, \"default\": 0.0, \"deposit\": 0.0, \"duration\": 0.0, \"education\": 0.0, \"housing\": 0.0, \"job\": 0.064094963, \"loan\": 1.0, \"marital\": 0.0, \"month\": 0.0, \"pdays\": 0.0, \"poutcome\": 0.0, \"previous\": 0.0}, {\"Duration_day\": 0.0, \"age\": 0.0, \"balance\": 0.0, \"campaign\": 0.0, \"contact\": 0.0020263178, \"day\": 0.082898069, \"default\": 0.0020263178, \"deposit\": 0.0020263178, \"duration\": 0.0328594127, \"education\": 0.0, \"housing\": 0.0020263178, \"job\": 0.0, \"loan\": 0.0020263178, \"marital\": 1.0, \"month\": 0.0020263178, \"pdays\": 0.0, \"poutcome\": 0.0, \"previous\": 0.0}, {\"Duration_day\": 0.0911643815, \"age\": 0.0877673638, \"balance\": 0.0, \"campaign\": 0.0876091983, \"contact\": 0.2700283416, \"day\": 0.2124065171, \"default\": 0.0, \"deposit\": 0.0, \"duration\": 0.0, \"education\": 0.0075231481, \"housing\": 0.1768051104, \"job\": 0.0114478322, \"loan\": 0.0, \"marital\": 0.0, \"month\": 1.0, \"pdays\": 0.0, \"poutcome\": 0.0, \"previous\": 0.0}, {\"Duration_day\": 0.0, \"age\": 0.0, \"balance\": 0.0, \"campaign\": 0.0, \"contact\": 0.0, \"day\": 0.0, \"default\": 0.0, \"deposit\": 0.0, \"duration\": 0.0, \"education\": 0.0, \"housing\": 0.0, \"job\": 0.0, \"loan\": 0.0, \"marital\": 0.0, \"month\": 0.0, \"pdays\": 1.0, \"poutcome\": 0.3494689542, \"previous\": 0.2538781004}, {\"Duration_day\": 0.0, \"age\": 0.0, \"balance\": 0.0, \"campaign\": 0.0, \"contact\": 0.0, \"day\": 0.0, \"default\": 0.0, \"deposit\": 0.0, \"duration\": 0.0, \"education\": 0.0, \"housing\": 0.0, \"job\": 0.0, \"loan\": 0.0, \"marital\": 0.0, \"month\": 0.0, \"pdays\": 0.4955151264, \"poutcome\": 1.0, \"previous\": 0.3229281959}, {\"Duration_day\": 0.0, \"age\": 0.0, \"balance\": 0.0, \"campaign\": 0.0, \"contact\": 0.0, \"day\": 0.0, \"default\": 0.0, \"deposit\": 0.0, \"duration\": 0.0, \"education\": 0.0, \"housing\": 0.0, \"job\": 0.0, \"loan\": 0.0, \"marital\": 0.0, \"month\": 0.0, \"pdays\": 0.6728098291, \"poutcome\": 0.5026709402, \"previous\": 1.0}], \"HasBasicStats\": 1, \"functionsApplied\": [{\"functionName\": \"formula\", \"applyOn\": [{\"columnName\": \"balance\", \"type\": \"numeric\", \"min\": \"-616.0\", \"max\": \"8121.0\", \"mean\": \"1173.4\"}, {\"columnName\": \"duration\", \"type\": \"numeric\", \"min\": \"8.0\", \"max\": \"1467.0\", \"mean\": \"295.0\"}], \"functionsData\": [{\"operand1\": \"balance\", \"operator\": \"add\", \"operand2\": \"duration\", \"outputColumn\": \"newColumn\", \"useNext\": 0, \"column\": [{\"Columndata\": {\"columnName\": \"balance\", \"type\": \"numeric\", \"min\": \"-616.0\", \"max\": \"8121.0\", \"mean\": \"1173.4\"}}, {\"Columndata\": {\"columnName\": \"duration\", \"type\": \"numeric\", \"min\": \"8.0\", \"max\": \"1467.0\", \"mean\": \"295.0\"}}, {\"Columndata\": \"\"}], \"newColumnName\": \"Duration_day\"}]}], \"functionChanges\": [{\"columnName\": \"balance\", \"functionName\": \"Formula\", \"Type\": \"numeric\", \"Parameters\": [{\"operand1\": \"balance\", \"operator\": \"add\", \"operand2\": \"duration\", \"outputColumn\": \"newColumn\", \"useNext\": 0, \"column\": [{\"Columndata\": {\"columnName\": \"balance\", \"type\": \"numeric\", \"min\": \"-616.0\", \"max\": \"8121.0\", \"mean\": \"1173.4\"}}, {\"Columndata\": {\"columnName\": \"duration\", \"type\": \"numeric\", \"min\": \"8.0\", \"max\": \"1467.0\", \"mean\": \"295.0\"}}, {\"Columndata\": \"\"}], \"newColumnName\": \"Duration_day\"}]}, {\"columnName\": \"duration\", \"functionName\": \"Formula\", \"Type\": \"numeric\", \"Parameters\": [{\"operand1\": \"balance\", \"operator\": \"add\", \"operand2\": \"duration\", \"outputColumn\": \"newColumn\", \"useNext\": 0, \"column\": [{\"Columndata\": {\"columnName\": \"balance\", \"type\": \"numeric\", \"min\": \"-616.0\", \"max\": \"8121.0\", \"mean\": \"1173.4\"}}, {\"Columndata\": {\"columnName\": \"duration\", \"type\": \"numeric\", \"min\": \"8.0\", \"max\": \"1467.0\", \"mean\": \"295.0\"}}, {\"Columndata\": \"\"}], \"newColumnName\": \"Duration_day\"}]}], \"fileheader\": [{\"field\": \"age\", \"alias\": \"age\", \"generated\": 0, \"position\": 1, \"type\": \"numeric\"}, {\"field\": \"job\", \"alias\": \"job\", \"generated\": 0, \"position\": 2, \"type\": \"String\"}, {\"field\": \"marital\", \"alias\": \"marital\", \"generated\": 0, \"position\": 3, \"type\": \"String\"}, {\"field\": \"education\", \"alias\": \"education\", \"generated\": 0, \"position\": 4, \"type\": \"String\"}, {\"field\": \"default\", \"alias\": \"default\", \"generated\": 0, \"position\": 5, \"type\": \"String\"}, {\"field\": \"balance\", \"alias\": \"balance\", \"generated\": 0, \"position\": 6, \"type\": \"numeric\"}, {\"field\": \"housing\", \"alias\": \"housing\", \"generated\": 0, \"position\": 7, \"type\": \"String\"}, {\"field\": \"loan\", \"alias\": \"loan\", \"generated\": 0, \"position\": 8, \"type\": \"String\"}, {\"field\": \"contact\", \"alias\": \"contact\", \"generated\": 0, \"position\": 9, \"type\": \"String\"}, {\"field\": \"day\", \"alias\": \"day\", \"generated\": 0, \"position\": 10, \"type\": \"numeric\"}, {\"field\": \"month\", \"alias\": \"month\", \"generated\": 0, \"position\": 11, \"type\": \"String\"}, {\"field\": \"duration\", \"alias\": \"duration\", \"generated\": 0, \"position\": 12, \"type\": \"numeric\"}, {\"field\": \"campaign\", \"alias\": \"campaign\", \"generated\": 0, \"position\": 13, \"type\": \"numeric\"}, {\"field\": \"pdays\", \"alias\": \"pdays\", \"generated\": 0, \"position\": 14, \"type\": \"numeric\"}, {\"field\": \"previous\", \"alias\": \"previous\", \"generated\": 0, \"position\": 15, \"type\": \"numeric\"}, {\"field\": \"poutcome\", \"alias\": \"poutcome\", \"generated\": 0, \"position\": 16, \"type\": \"String\"}, {\"field\": \"deposit\", \"alias\": \"deposit\", \"generated\": 0, \"position\": 17, \"type\": \"String\"}, {\"field\": \"Duration_day\", \"alias\": \"Duration_day\", \"generated\": 1, \"position\": 18, \"type\": \"numeric\"}]}))\n",
    "\t#operationPostExecutionHook(datapreparation)\n",
    "\n",
    "except Exception as ex: \n",
    "\tlogging.error(ex)\n"
   ]
  },
  {
   "cell_type": "markdown",
   "id": "3313809c",
   "metadata": {},
   "source": [
    "***WRITING DATAFRAME***"
   ]
  },
  {
   "cell_type": "code",
   "execution_count": null,
   "id": "953002de",
   "metadata": {},
   "outputs": [],
   "source": [
    "#%run 3novbankdepoexsHooks.ipynb\n",
    "try:\n",
    "\t#sinkPreExecutionHook()\n",
    "\n",
    "\texceltestoutput = NumtraConnector.fetch(spark, \"{'samplefile': '/FileStore/platform/sampleData/6544929d2ed6c611a5253026/part-00000-62f7823e-0800-42ff-8084-25d3d0a1494e-c000.csv', 'samplecount': 49, 'originalcount': 49, 'orignalKey': '/FileStore/platform/uploadedSourceFiles/tempFile8MayBostonEx_test1698991870.csv', 'pathOnly': '/ExcelTest', 'project_id': '65434eb86ccd2901f4db4421', 'parent_id': '65434eb86ccd2901f4db4421', 'original_schema': [{'checked': True, 'inherited': True, 'is_categorical': False, 'bad_values': '', 'nullable': 'true', 'field': 'age', 'alias': 'age', 'type': 'numeric', 'position': '0'}, {'checked': True, 'inherited': True, 'is_categorical': False, 'bad_values': '', 'nullable': 'true', 'field': 'job', 'alias': 'job', 'type': 'String', 'position': '1'}, {'checked': True, 'inherited': True, 'is_categorical': False, 'bad_values': '', 'nullable': 'true', 'field': 'marital', 'alias': 'marital', 'type': 'String', 'position': '2'}, {'checked': True, 'inherited': True, 'is_categorical': False, 'bad_values': '', 'nullable': 'true', 'field': 'education', 'alias': 'education', 'type': 'String', 'position': '3'}, {'checked': True, 'inherited': True, 'is_categorical': False, 'bad_values': '', 'nullable': 'true', 'field': 'default', 'alias': 'default', 'type': 'String', 'position': '4'}, {'checked': True, 'inherited': True, 'is_categorical': False, 'bad_values': '', 'nullable': 'true', 'field': 'balance', 'alias': 'balance', 'type': 'numeric', 'position': '5'}, {'checked': True, 'inherited': True, 'is_categorical': False, 'bad_values': '', 'nullable': 'true', 'field': 'housing', 'alias': 'housing', 'type': 'String', 'position': '6'}, {'checked': True, 'inherited': True, 'is_categorical': False, 'bad_values': '', 'nullable': 'true', 'field': 'loan', 'alias': 'loan', 'type': 'String', 'position': '7'}, {'checked': True, 'inherited': True, 'is_categorical': False, 'bad_values': '', 'nullable': 'true', 'field': 'contact', 'alias': 'contact', 'type': 'String', 'position': '8'}, {'checked': True, 'inherited': True, 'is_categorical': False, 'bad_values': '', 'nullable': 'true', 'field': 'day', 'alias': 'day', 'type': 'numeric', 'position': '9'}, {'checked': True, 'inherited': True, 'is_categorical': False, 'bad_values': '', 'nullable': 'true', 'field': 'month', 'alias': 'month', 'type': 'String', 'position': '10'}, {'checked': True, 'inherited': True, 'is_categorical': False, 'bad_values': '', 'nullable': 'true', 'field': 'duration', 'alias': 'duration', 'type': 'numeric', 'position': '11'}, {'checked': True, 'inherited': True, 'is_categorical': False, 'bad_values': '', 'nullable': 'true', 'field': 'campaign', 'alias': 'campaign', 'type': 'numeric', 'position': '12'}, {'checked': True, 'inherited': True, 'is_categorical': False, 'bad_values': '', 'nullable': 'true', 'field': 'pdays', 'alias': 'pdays', 'type': 'numeric', 'position': '13'}, {'checked': True, 'inherited': True, 'is_categorical': False, 'bad_values': '', 'nullable': 'true', 'field': 'previous', 'alias': 'previous', 'type': 'numeric', 'position': '14'}, {'checked': True, 'inherited': True, 'is_categorical': False, 'bad_values': '', 'nullable': 'true', 'field': 'poutcome', 'alias': 'poutcome', 'type': 'String', 'position': '15'}, {'checked': True, 'inherited': True, 'is_categorical': False, 'bad_values': '', 'nullable': 'true', 'field': 'deposit', 'alias': 'deposit', 'type': 'String', 'position': '16'}, {'checked': True, 'inherited': True, 'is_categorical': False, 'bad_values': '', 'nullable': 'true', 'field': 'Duration_day', 'alias': 'Duration_day', 'type': 'numeric', 'position': '18'}], 'actual_schema': [{'checked': True, 'inherited': True, 'is_categorical': False, 'bad_values': '', 'nullable': 'true', 'field': 'age', 'alias': 'age', 'type': 'numeric', 'position': '0'}, {'checked': True, 'inherited': True, 'is_categorical': False, 'bad_values': '', 'nullable': 'true', 'field': 'job', 'alias': 'job', 'type': 'String', 'position': '1'}, {'checked': True, 'inherited': True, 'is_categorical': False, 'bad_values': '', 'nullable': 'true', 'field': 'marital', 'alias': 'marital', 'type': 'String', 'position': '2'}, {'checked': True, 'inherited': True, 'is_categorical': False, 'bad_values': '', 'nullable': 'true', 'field': 'education', 'alias': 'education', 'type': 'String', 'position': '3'}, {'checked': True, 'inherited': True, 'is_categorical': False, 'bad_values': '', 'nullable': 'true', 'field': 'default', 'alias': 'default', 'type': 'String', 'position': '4'}, {'checked': True, 'inherited': True, 'is_categorical': False, 'bad_values': '', 'nullable': 'true', 'field': 'balance', 'alias': 'balance', 'type': 'numeric', 'position': '5'}, {'checked': True, 'inherited': True, 'is_categorical': False, 'bad_values': '', 'nullable': 'true', 'field': 'housing', 'alias': 'housing', 'type': 'String', 'position': '6'}, {'checked': True, 'inherited': True, 'is_categorical': False, 'bad_values': '', 'nullable': 'true', 'field': 'loan', 'alias': 'loan', 'type': 'String', 'position': '7'}, {'checked': True, 'inherited': True, 'is_categorical': False, 'bad_values': '', 'nullable': 'true', 'field': 'contact', 'alias': 'contact', 'type': 'String', 'position': '8'}, {'checked': True, 'inherited': True, 'is_categorical': False, 'bad_values': '', 'nullable': 'true', 'field': 'day', 'alias': 'day', 'type': 'numeric', 'position': '9'}, {'checked': True, 'inherited': True, 'is_categorical': False, 'bad_values': '', 'nullable': 'true', 'field': 'month', 'alias': 'month', 'type': 'String', 'position': '10'}, {'checked': True, 'inherited': True, 'is_categorical': False, 'bad_values': '', 'nullable': 'true', 'field': 'duration', 'alias': 'duration', 'type': 'numeric', 'position': '11'}, {'checked': True, 'inherited': True, 'is_categorical': False, 'bad_values': '', 'nullable': 'true', 'field': 'campaign', 'alias': 'campaign', 'type': 'numeric', 'position': '12'}, {'checked': True, 'inherited': True, 'is_categorical': False, 'bad_values': '', 'nullable': 'true', 'field': 'pdays', 'alias': 'pdays', 'type': 'numeric', 'position': '13'}, {'checked': True, 'inherited': True, 'is_categorical': False, 'bad_values': '', 'nullable': 'true', 'field': 'previous', 'alias': 'previous', 'type': 'numeric', 'position': '14'}, {'checked': True, 'inherited': True, 'is_categorical': False, 'bad_values': '', 'nullable': 'true', 'field': 'poutcome', 'alias': 'poutcome', 'type': 'String', 'position': '15'}, {'checked': True, 'inherited': True, 'is_categorical': False, 'bad_values': '', 'nullable': 'true', 'field': 'deposit', 'alias': 'deposit', 'type': 'String', 'position': '16'}], 'server': 'https://mluat.numtra.com:443', 'server_url': '/numtraPlatform/NumtraPlatformV3/uploads/platform/', 'delimiter': ',', 'file_type': 'Delimeted', 'filename': '3NovBDExTrans.csv', 'token': '', 'domain': '', 'is_header': 'Use Header Line', 'url': '/FileStore/platform/uploadedSourceFiles/part-00000-8ed64f2c-483e-437e-85a9-a16686cd4a06-c000.csv', 'results_url': 'http://mluat.numtra.com:44040/api/read/hdfs'}\")\n",
    "\n",
    "except Exception as ex: \n",
    "\tlogging.error(ex)\n"
   ]
  }
 ],
 "metadata": {},
 "nbformat": 4,
 "nbformat_minor": 5
}
